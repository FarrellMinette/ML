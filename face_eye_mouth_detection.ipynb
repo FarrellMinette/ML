{
 "cells": [
  {
   "cell_type": "markdown",
   "metadata": {},
   "source": [
    "# Use openCV to identify facial features.\n",
    "1. Identify the eyes, mouth and face from an image. \n",
    "2. Detect the iris color, lip color and skin color\n",
    "3. Use openai to determine color season from image.\n"
   ]
  },
  {
   "cell_type": "markdown",
   "metadata": {},
   "source": [
    "Import opencv library."
   ]
  },
  {
   "cell_type": "code",
   "execution_count": 2,
   "metadata": {},
   "outputs": [],
   "source": [
    "import cv2"
   ]
  },
  {
   "cell_type": "markdown",
   "metadata": {},
   "source": [
    "Create face, eye and mouth classifiers that are pre-trained."
   ]
  },
  {
   "cell_type": "code",
   "execution_count": 7,
   "metadata": {},
   "outputs": [],
   "source": [
    "face_classifier = cv2.CascadeClassifier(cv2.data.haarcascades + 'haarcascade_frontalface_default.xml')\n",
    "eye_classifier = cv2.CascadeClassifier(cv2.data.haarcascades + 'haarcascade_eye.xml')\n",
    "mouth_classifier = cv2.CascadeClassifier(cv2.data.haarcascades + 'haarcascade_smile.xml')"
   ]
  },
  {
   "cell_type": "markdown",
   "metadata": {},
   "source": [
    "Apply the classifiers to the test images to extract the rectangular regions of the features."
   ]
  },
  {
   "cell_type": "code",
   "execution_count": 25,
   "metadata": {},
   "outputs": [
    {
     "data": {
      "text/plain": [
       "True"
      ]
     },
     "execution_count": 25,
     "metadata": {},
     "output_type": "execute_result"
    }
   ],
   "source": [
    "test_image = cv2.imread(\"minette.jpg\")\n",
    "gray_image = cv2.cvtColor(test_image, cv2.COLOR_BGR2GRAY)\n",
    "\n",
    "faces = face_classifier.detectMultiScale(test_image, 1.8, 4)\n",
    "for (x,y,w,h) in faces:\n",
    "    cv2.rectangle(test_image, (x,y), (w+x,h+y), (0,0,225), 2)\n",
    "    roi_gray = gray_image[y:y+h, x:x+w]\n",
    "    roi_color = test_image[y:y+h, x:x+w]\n",
    "\n",
    "eyes = eye_classifier.detectMultiScale(gray_image, 1.3, 8)\n",
    "for (x,y,w,h) in eyes:\n",
    "    cv2.rectangle(test_image, (x,y), (w+x,h+y), (0,0,225), 2)\n",
    "\n",
    "mouth = mouth_classifier.detectMultiScale(gray_image, 1.8, 28)\n",
    "for (x,y,w,h) in mouth:\n",
    "    cv2.rectangle(test_image, (x,y), (w+x,h+y), (0,0,225), 2)\n",
    "    \n",
    "cv2.imshow(\"Test Image\", test_image)\n",
    "cv2.imwrite(\"Final output.png\", test_image)"
   ]
  }
 ],
 "metadata": {
  "kernelspec": {
   "display_name": "base",
   "language": "python",
   "name": "python3"
  },
  "language_info": {
   "codemirror_mode": {
    "name": "ipython",
    "version": 3
   },
   "file_extension": ".py",
   "mimetype": "text/x-python",
   "name": "python",
   "nbconvert_exporter": "python",
   "pygments_lexer": "ipython3",
   "version": "3.11.3"
  }
 },
 "nbformat": 4,
 "nbformat_minor": 2
}
