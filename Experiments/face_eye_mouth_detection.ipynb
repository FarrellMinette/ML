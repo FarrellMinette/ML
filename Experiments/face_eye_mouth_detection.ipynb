{
 "cells": [
  {
   "cell_type": "markdown",
   "metadata": {},
   "source": [
    "# Use openCV to identify facial features.\n",
    "1. Identify the eyes, mouth and face from an image. \n",
    "2. Detect the iris color, lip color and skin color\n",
    "3. Use openai to determine color season from image.\n"
   ]
  },
  {
   "cell_type": "markdown",
   "metadata": {},
   "source": [
    "Import opencv library."
   ]
  },
  {
   "cell_type": "code",
   "execution_count": 1,
   "metadata": {},
   "outputs": [],
   "source": [
    "import cv2"
   ]
  },
  {
   "cell_type": "markdown",
   "metadata": {},
   "source": [
    "Create face, eye and mouth classifiers that are pre-trained."
   ]
  },
  {
   "cell_type": "code",
   "execution_count": 2,
   "metadata": {},
   "outputs": [],
   "source": [
    "face_classifier = cv2.CascadeClassifier(cv2.data.haarcascades + 'haarcascade_frontalface_default.xml')\n",
    "eye_classifier = cv2.CascadeClassifier(cv2.data.haarcascades + 'haarcascade_eye.xml')\n",
    "mouth_classifier = cv2.CascadeClassifier(cv2.data.haarcascades + 'haarcascade_smile.xml')"
   ]
  },
  {
   "cell_type": "markdown",
   "metadata": {},
   "source": [
    "Apply the classifiers to the test images to extract the rectangular regions of the features."
   ]
  },
  {
   "cell_type": "code",
   "execution_count": 3,
   "metadata": {},
   "outputs": [],
   "source": [
    "test_image = cv2.imread(\"minette.jpg\")\n",
    "gray_image = cv2.cvtColor(test_image, cv2.COLOR_BGR2GRAY)\n",
    "\n",
    "face_classifier = cv2.CascadeClassifier(cv2.data.haarcascades + 'haarcascade_frontalface_default.xml')\n",
    "eye_classifier = cv2.CascadeClassifier(cv2.data.haarcascades + 'haarcascade_eye.xml')\n",
    "mouth_classifier = cv2.CascadeClassifier(cv2.data.haarcascades + 'haarcascade_smile.xml')"
   ]
  },
  {
   "cell_type": "code",
   "execution_count": 29,
   "metadata": {},
   "outputs": [
    {
     "data": {
      "text/plain": [
       "True"
      ]
     },
     "execution_count": 29,
     "metadata": {},
     "output_type": "execute_result"
    }
   ],
   "source": [
    "test_image = cv2.imread(\"minette.jpg\")\n",
    "gray_image = cv2.cvtColor(test_image, cv2.COLOR_BGR2GRAY)\n",
    "\n",
    "# faces = face_classifier.detectMultiScale(test_image, 1.8, 4)\n",
    "# for (x,y,w,h) in faces:\n",
    "#     cv2.rectangle(test_image, (x,y), (w+x,h+y), (0,0,225), 2)\n",
    "#     roi_gray = gray_image[y:y+h, x:x+w]\n",
    "#     roi_color = test_image[y:y+h, x:x+w]\n",
    "\n",
    "# mouth = mouth_classifier.detectMultiScale(gray_image, 1.8, 28)\n",
    "# for (x,y,w,h) in mouth:\n",
    "#     cv2.rectangle(test_image, (x,y), (w+x,h+y), (0,0,225), 2)\n",
    "\n",
    "eyes = eye_classifier.detectMultiScale(gray_image)\n",
    "for (ex,ey,ew,eh) in eyes:\n",
    "    cv2.rectangle(test_image, (ex,ey), (ew+ex,eh+ey), (0,0,225), 2)\n",
    "    eye_roi_gray = gray_image[ey:ey + eh, ex:ex + ew]\n",
    "    # Apply Gaussian blur to reduce noise\n",
    "    blurred = cv2.GaussianBlur(eye_roi_gray, (11, 11), 0)\n",
    "    \n",
    "    # Detect larger circles using Hough Circle Transform\n",
    "    circles = cv2.HoughCircles(blurred, cv2.HOUGH_GRADIENT, dp=1, minDist=20,\n",
    "                               param1=50, param2=30, minRadius=20, maxRadius=50)\n",
    "    \n",
    "    # Draw detected larger circles\n",
    "    if circles is not None:\n",
    "        circles = circles[0]  # Convert circles to numpy array\n",
    "        circles = circles.round().astype(\"int\")  # Round the circles coordinates and convert to integers\n",
    "        for (cx, cy, cr) in circles:\n",
    "            # Adjust the coordinates to the entire image space\n",
    "            cx += ex\n",
    "            cy += ey\n",
    "            # Draw larger circles\n",
    "            cv2.circle(test_image, (cx, cy), cr, (0, 255, 0), 2)\n",
    "            \n",
    "            # Extract the region around the larger circle\n",
    "            x = max(cx - cr, 0)\n",
    "            y = max(cy - cr, 0)\n",
    "            w = min(2 * cr, test_image.shape[1] - x)\n",
    "            h = min(2 * cr, test_image.shape[0] - y)\n",
    "            circle_region_gray = gray_image[y:y + h, x:x + w]\n",
    "            \n",
    "            # Apply Gaussian blur to the extracted region\n",
    "            blurred_circle_region = cv2.GaussianBlur(circle_region_gray, (11, 11), 0)\n",
    "            \n",
    "            # Detect smaller circles (iris) within the extracted region\n",
    "            iris_circles = cv2.HoughCircles(blurred_circle_region, cv2.HOUGH_GRADIENT, dp=1, minDist=10,\n",
    "                                             param1=50, param2=30, minRadius=5, maxRadius=20)\n",
    "            \n",
    "            # Draw detected smaller circles (iris)\n",
    "            if iris_circles is not None:\n",
    "                iris_circles = iris_circles[0]  # Convert circles to numpy array\n",
    "                iris_circles = iris_circles.round().astype(\"int\")  # Round the circles coordinates and convert to integers\n",
    "                for (icx, icy, icr) in iris_circles:\n",
    "                    # Adjust the coordinates to the entire image space\n",
    "                    icx += x\n",
    "                    icy += y\n",
    "                    # Draw smaller circles (iris)\n",
    "                    cv2.circle(test_image, (icx, icy), icr, (0, 0, 255), 2)\n",
    "                    \n",
    "cv2.imwrite(\"iris_detection.png\", test_image)"
   ]
  }
 ],
 "metadata": {
  "kernelspec": {
   "display_name": "base",
   "language": "python",
   "name": "python3"
  },
  "language_info": {
   "codemirror_mode": {
    "name": "ipython",
    "version": 3
   },
   "file_extension": ".py",
   "mimetype": "text/x-python",
   "name": "python",
   "nbconvert_exporter": "python",
   "pygments_lexer": "ipython3",
   "version": "3.11.3"
  }
 },
 "nbformat": 4,
 "nbformat_minor": 2
}
